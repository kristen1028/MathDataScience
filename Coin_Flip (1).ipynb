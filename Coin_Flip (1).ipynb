{
  "nbformat": 4,
  "nbformat_minor": 0,
  "metadata": {
    "colab": {
      "provenance": []
    },
    "kernelspec": {
      "name": "python3",
      "display_name": "Python 3"
    },
    "language_info": {
      "name": "python"
    }
  },
  "cells": [
    {
      "cell_type": "code",
      "source": [
        "from IPython.display import HTML, display, Javascript\n",
        "\n",
        "html_content = \"\"\"\n",
        "<div id=\"coin\" style=\"width: 150px; height: 150px; border-radius: 50%; border: 5px solid #000; transform-origin: center;\">\n",
        "    <svg xmlns=\"http://www.w3.org/2000/svg\" viewBox=\"0 0 100 100\">\n",
        "        <!-- Heads Side -->\n",
        "        <g class=\"heads\" style=\"display: none;\">\n",
        "            <circle cx=\"50\" cy=\"50\" r=\"45\" fill=\"#ccc\"/>\n",
        "            <text x=\"50\" y=\"60\" font-size=\"24\" text-anchor=\"middle\">Heads</text>\n",
        "        </g>\n",
        "        <!-- Tails Side -->\n",
        "        <g class=\"tails\" style=\"display: none;\">\n",
        "            <circle cx=\"50\" cy=\"50\" r=\"45\" fill=\"#999\"/>\n",
        "            <text x=\"50\" y=\"60\" font-size=\"24\" text-anchor=\"middle\">Tails</text>\n",
        "        </g>\n",
        "    </svg>\n",
        "</div>\n",
        "<button onclick=\"flipCoin()\">Flip Coin</button>\n",
        "\n",
        "<script>\n",
        "function flipCoin() {\n",
        "    const coin = document.getElementById('coin');\n",
        "    const heads = document.querySelector('.heads');\n",
        "    const tails = document.querySelector('.tails');\n",
        "\n",
        "    // Randomly decide if the coin is heads or tails\n",
        "    const isHeads = Math.random() >= 0.5;\n",
        "\n",
        "    // Reset previous transforms\n",
        "    coin.style.transform = '';\n",
        "\n",
        "    // Animate the coin flip\n",
        "    const numberOfFlips = Math.floor(Math.random() * 5) + 3; // 3 to 7 flips\n",
        "    const rotation = isHeads ? 360 * numberOfFlips : -360 * numberOfFlips;  // Updated rotation direction\n",
        "\n",
        "    // Use CSS transition for flip animation\n",
        "    coin.style.transition = 'transform 1s';\n",
        "    coin.style.transform = `rotateY(${rotation}deg)`;\n",
        "\n",
        "    // After the animation completes, show the final side\n",
        "    setTimeout(() => {\n",
        "        if (isHeads) {\n",
        "            heads.style.display = 'block';\n",
        "            tails.style.display = 'none';\n",
        "        } else {\n",
        "            heads.style.display = 'none';\n",
        "            tails.style.display = 'block';\n",
        "        }\n",
        "    }, 1000); // Wait for 1 second (animation duration)\n",
        "}\n",
        "</script>\n",
        "\"\"\"\n",
        "\n",
        "display(HTML(html_content))\n"
      ],
      "metadata": {
        "colab": {
          "base_uri": "https://localhost:8080/",
          "height": 199
        },
        "id": "pBAbYj5TJumI",
        "outputId": "de7ffd8d-87f0-46af-ae50-3d639951fc6c"
      },
      "execution_count": 8,
      "outputs": [
        {
          "output_type": "display_data",
          "data": {
            "text/plain": [
              "<IPython.core.display.HTML object>"
            ],
            "text/html": [
              "\n",
              "<div id=\"coin\" style=\"width: 150px; height: 150px; border-radius: 50%; border: 5px solid #000; transform-origin: center;\">\n",
              "    <svg xmlns=\"http://www.w3.org/2000/svg\" viewBox=\"0 0 100 100\">\n",
              "        <!-- Heads Side -->\n",
              "        <g class=\"heads\" style=\"display: none;\">\n",
              "            <circle cx=\"50\" cy=\"50\" r=\"45\" fill=\"#ccc\"/>\n",
              "            <text x=\"50\" y=\"60\" font-size=\"24\" text-anchor=\"middle\">Heads</text>\n",
              "        </g>\n",
              "        <!-- Tails Side -->\n",
              "        <g class=\"tails\" style=\"display: none;\">\n",
              "            <circle cx=\"50\" cy=\"50\" r=\"45\" fill=\"#999\"/>\n",
              "            <text x=\"50\" y=\"60\" font-size=\"24\" text-anchor=\"middle\">Tails</text>\n",
              "        </g>\n",
              "    </svg>\n",
              "</div>\n",
              "<button onclick=\"flipCoin()\">Flip Coin</button>\n",
              "\n",
              "<script>\n",
              "function flipCoin() {\n",
              "    const coin = document.getElementById('coin');\n",
              "    const heads = document.querySelector('.heads');\n",
              "    const tails = document.querySelector('.tails');\n",
              "\n",
              "    // Randomly decide if the coin is heads or tails\n",
              "    const isHeads = Math.random() >= 0.5;\n",
              "\n",
              "    // Reset previous transforms\n",
              "    coin.style.transform = '';\n",
              "\n",
              "    // Animate the coin flip\n",
              "    const numberOfFlips = Math.floor(Math.random() * 5) + 3; // 3 to 7 flips\n",
              "    const rotation = isHeads ? 360 * numberOfFlips : -360 * numberOfFlips;  // Updated rotation direction\n",
              "\n",
              "    // Use CSS transition for flip animation\n",
              "    coin.style.transition = 'transform 1s';\n",
              "    coin.style.transform = `rotateY(${rotation}deg)`;\n",
              "\n",
              "    // After the animation completes, show the final side\n",
              "    setTimeout(() => {\n",
              "        if (isHeads) {\n",
              "            heads.style.display = 'block';\n",
              "            tails.style.display = 'none';\n",
              "        } else {\n",
              "            heads.style.display = 'none';\n",
              "            tails.style.display = 'block';\n",
              "        }\n",
              "    }, 1000); // Wait for 1 second (animation duration)\n",
              "}\n",
              "</script>\n"
            ]
          },
          "metadata": {}
        }
      ]
    }
  ]
}