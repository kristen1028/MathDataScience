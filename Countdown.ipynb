{
  "nbformat": 4,
  "nbformat_minor": 0,
  "metadata": {
    "colab": {
      "provenance": []
    },
    "kernelspec": {
      "name": "python3",
      "display_name": "Python 3"
    },
    "language_info": {
      "name": "python"
    }
  },
  "cells": [
    {
      "cell_type": "code",
      "execution_count": 2,
      "metadata": {
        "colab": {
          "resources": {
            "http://localhost:8080/styles.css": {
              "data": "CjwhRE9DVFlQRSBodG1sPgo8aHRtbCBsYW5nPWVuPgogIDxtZXRhIGNoYXJzZXQ9dXRmLTg+CiAgPG1ldGEgbmFtZT12aWV3cG9ydCBjb250ZW50PSJpbml0aWFsLXNjYWxlPTEsIG1pbmltdW0tc2NhbGU9MSwgd2lkdGg9ZGV2aWNlLXdpZHRoIj4KICA8dGl0bGU+RXJyb3IgNDA0IChOb3QgRm91bmQpISExPC90aXRsZT4KICA8c3R5bGU+CiAgICAqe21hcmdpbjowO3BhZGRpbmc6MH1odG1sLGNvZGV7Zm9udDoxNXB4LzIycHggYXJpYWwsc2Fucy1zZXJpZn1odG1se2JhY2tncm91bmQ6I2ZmZjtjb2xvcjojMjIyO3BhZGRpbmc6MTVweH1ib2R5e21hcmdpbjo3JSBhdXRvIDA7bWF4LXdpZHRoOjM5MHB4O21pbi1oZWlnaHQ6MTgwcHg7cGFkZGluZzozMHB4IDAgMTVweH0qID4gYm9keXtiYWNrZ3JvdW5kOnVybCgvL3d3dy5nb29nbGUuY29tL2ltYWdlcy9lcnJvcnMvcm9ib3QucG5nKSAxMDAlIDVweCBuby1yZXBlYXQ7cGFkZGluZy1yaWdodDoyMDVweH1we21hcmdpbjoxMXB4IDAgMjJweDtvdmVyZmxvdzpoaWRkZW59aW5ze2NvbG9yOiM3Nzc7dGV4dC1kZWNvcmF0aW9uOm5vbmV9YSBpbWd7Ym9yZGVyOjB9QG1lZGlhIHNjcmVlbiBhbmQgKG1heC13aWR0aDo3NzJweCl7Ym9keXtiYWNrZ3JvdW5kOm5vbmU7bWFyZ2luLXRvcDowO21heC13aWR0aDpub25lO3BhZGRpbmctcmlnaHQ6MH19I2xvZ297YmFja2dyb3VuZDp1cmwoLy93d3cuZ29vZ2xlLmNvbS9pbWFnZXMvbG9nb3MvZXJyb3JwYWdlL2Vycm9yX2xvZ28tMTUweDU0LnBuZykgbm8tcmVwZWF0O21hcmdpbi1sZWZ0Oi01cHh9QG1lZGlhIG9ubHkgc2NyZWVuIGFuZCAobWluLXJlc29sdXRpb246MTkyZHBpKXsjbG9nb3tiYWNrZ3JvdW5kOnVybCgvL3d3dy5nb29nbGUuY29tL2ltYWdlcy9sb2dvcy9lcnJvcnBhZ2UvZXJyb3JfbG9nby0xNTB4NTQtMngucG5nKSBuby1yZXBlYXQgMCUgMCUvMTAwJSAxMDAlOy1tb3otYm9yZGVyLWltYWdlOnVybCgvL3d3dy5nb29nbGUuY29tL2ltYWdlcy9sb2dvcy9lcnJvcnBhZ2UvZXJyb3JfbG9nby0xNTB4NTQtMngucG5nKSAwfX1AbWVkaWEgb25seSBzY3JlZW4gYW5kICgtd2Via2l0LW1pbi1kZXZpY2UtcGl4ZWwtcmF0aW86Mil7I2xvZ297YmFja2dyb3VuZDp1cmwoLy93d3cuZ29vZ2xlLmNvbS9pbWFnZXMvbG9nb3MvZXJyb3JwYWdlL2Vycm9yX2xvZ28tMTUweDU0LTJ4LnBuZykgbm8tcmVwZWF0Oy13ZWJraXQtYmFja2dyb3VuZC1zaXplOjEwMCUgMTAwJX19I2xvZ297ZGlzcGxheTppbmxpbmUtYmxvY2s7aGVpZ2h0OjU0cHg7d2lkdGg6MTUwcHh9CiAgPC9zdHlsZT4KICA8YSBocmVmPS8vd3d3Lmdvb2dsZS5jb20vPjxzcGFuIGlkPWxvZ28gYXJpYS1sYWJlbD1Hb29nbGU+PC9zcGFuPjwvYT4KICA8cD48Yj40MDQuPC9iPiA8aW5zPlRoYXTigJlzIGFuIGVycm9yLjwvaW5zPgogIDxwPiAgPGlucz5UaGF04oCZcyBhbGwgd2Uga25vdy48L2lucz4K",
              "ok": false,
              "headers": [
                [
                  "content-length",
                  "1449"
                ],
                [
                  "content-type",
                  "text/html; charset=utf-8"
                ]
              ],
              "status": 404,
              "status_text": ""
            },
            "http://localhost:8080/script.js": {
              "data": "CjwhRE9DVFlQRSBodG1sPgo8aHRtbCBsYW5nPWVuPgogIDxtZXRhIGNoYXJzZXQ9dXRmLTg+CiAgPG1ldGEgbmFtZT12aWV3cG9ydCBjb250ZW50PSJpbml0aWFsLXNjYWxlPTEsIG1pbmltdW0tc2NhbGU9MSwgd2lkdGg9ZGV2aWNlLXdpZHRoIj4KICA8dGl0bGU+RXJyb3IgNDA0IChOb3QgRm91bmQpISExPC90aXRsZT4KICA8c3R5bGU+CiAgICAqe21hcmdpbjowO3BhZGRpbmc6MH1odG1sLGNvZGV7Zm9udDoxNXB4LzIycHggYXJpYWwsc2Fucy1zZXJpZn1odG1se2JhY2tncm91bmQ6I2ZmZjtjb2xvcjojMjIyO3BhZGRpbmc6MTVweH1ib2R5e21hcmdpbjo3JSBhdXRvIDA7bWF4LXdpZHRoOjM5MHB4O21pbi1oZWlnaHQ6MTgwcHg7cGFkZGluZzozMHB4IDAgMTVweH0qID4gYm9keXtiYWNrZ3JvdW5kOnVybCgvL3d3dy5nb29nbGUuY29tL2ltYWdlcy9lcnJvcnMvcm9ib3QucG5nKSAxMDAlIDVweCBuby1yZXBlYXQ7cGFkZGluZy1yaWdodDoyMDVweH1we21hcmdpbjoxMXB4IDAgMjJweDtvdmVyZmxvdzpoaWRkZW59aW5ze2NvbG9yOiM3Nzc7dGV4dC1kZWNvcmF0aW9uOm5vbmV9YSBpbWd7Ym9yZGVyOjB9QG1lZGlhIHNjcmVlbiBhbmQgKG1heC13aWR0aDo3NzJweCl7Ym9keXtiYWNrZ3JvdW5kOm5vbmU7bWFyZ2luLXRvcDowO21heC13aWR0aDpub25lO3BhZGRpbmctcmlnaHQ6MH19I2xvZ297YmFja2dyb3VuZDp1cmwoLy93d3cuZ29vZ2xlLmNvbS9pbWFnZXMvbG9nb3MvZXJyb3JwYWdlL2Vycm9yX2xvZ28tMTUweDU0LnBuZykgbm8tcmVwZWF0O21hcmdpbi1sZWZ0Oi01cHh9QG1lZGlhIG9ubHkgc2NyZWVuIGFuZCAobWluLXJlc29sdXRpb246MTkyZHBpKXsjbG9nb3tiYWNrZ3JvdW5kOnVybCgvL3d3dy5nb29nbGUuY29tL2ltYWdlcy9sb2dvcy9lcnJvcnBhZ2UvZXJyb3JfbG9nby0xNTB4NTQtMngucG5nKSBuby1yZXBlYXQgMCUgMCUvMTAwJSAxMDAlOy1tb3otYm9yZGVyLWltYWdlOnVybCgvL3d3dy5nb29nbGUuY29tL2ltYWdlcy9sb2dvcy9lcnJvcnBhZ2UvZXJyb3JfbG9nby0xNTB4NTQtMngucG5nKSAwfX1AbWVkaWEgb25seSBzY3JlZW4gYW5kICgtd2Via2l0LW1pbi1kZXZpY2UtcGl4ZWwtcmF0aW86Mil7I2xvZ297YmFja2dyb3VuZDp1cmwoLy93d3cuZ29vZ2xlLmNvbS9pbWFnZXMvbG9nb3MvZXJyb3JwYWdlL2Vycm9yX2xvZ28tMTUweDU0LTJ4LnBuZykgbm8tcmVwZWF0Oy13ZWJraXQtYmFja2dyb3VuZC1zaXplOjEwMCUgMTAwJX19I2xvZ297ZGlzcGxheTppbmxpbmUtYmxvY2s7aGVpZ2h0OjU0cHg7d2lkdGg6MTUwcHh9CiAgPC9zdHlsZT4KICA8YSBocmVmPS8vd3d3Lmdvb2dsZS5jb20vPjxzcGFuIGlkPWxvZ28gYXJpYS1sYWJlbD1Hb29nbGU+PC9zcGFuPjwvYT4KICA8cD48Yj40MDQuPC9iPiA8aW5zPlRoYXTigJlzIGFuIGVycm9yLjwvaW5zPgogIDxwPiAgPGlucz5UaGF04oCZcyBhbGwgd2Uga25vdy48L2lucz4K",
              "ok": false,
              "headers": [
                [
                  "content-length",
                  "1449"
                ],
                [
                  "content-type",
                  "text/html; charset=utf-8"
                ]
              ],
              "status": 404,
              "status_text": ""
            }
          },
          "base_uri": "https://localhost:8080/",
          "height": 113
        },
        "id": "rmCMNaWpsYbr",
        "outputId": "30cf8ee3-5b30-4118-9213-369e2ab79a3c"
      },
      "outputs": [
        {
          "output_type": "display_data",
          "data": {
            "text/plain": [
              "<IPython.core.display.HTML object>"
            ],
            "text/html": [
              "\n",
              "<!DOCTYPE html>\n",
              "<html lang=\"en\">\n",
              "<head>\n",
              "    <meta charset=\"UTF-8\">\n",
              "    <meta name=\"viewport\" content=\"width=device-width, initial-scale=1.0\">\n",
              "    <title>Countdown Timer</title>\n",
              "    <link rel=\"stylesheet\" href=\"styles.css\">\n",
              "</head>\n",
              "<body>\n",
              "    <div class=\"container\">\n",
              "        <h1>Countdown Timer</h1>\n",
              "        <input type=\"number\" id=\"minutes\" placeholder=\"Minutes\" min=\"0\" max=\"59\">\n",
              "        <input type=\"number\" id=\"seconds\" placeholder=\"Seconds\" min=\"0\" max=\"59\">\n",
              "        <button onclick=\"startCountdown()\">Start</button>\n",
              "        <div id=\"display\">00:00</div>\n",
              "    </div>\n",
              "    <script src=\"script.js\"></script>\n",
              "</body>\n",
              "</html>\n"
            ]
          },
          "metadata": {}
        }
      ],
      "source": [
        "from IPython.display import HTML\n",
        "html_content = \"\"\"\n",
        "<!DOCTYPE html>\n",
        "<html lang=\"en\">\n",
        "<head>\n",
        "    <meta charset=\"UTF-8\">\n",
        "    <meta name=\"viewport\" content=\"width=device-width, initial-scale=1.0\">\n",
        "    <title>Countdown Timer</title>\n",
        "    <link rel=\"stylesheet\" href=\"styles.css\">\n",
        "</head>\n",
        "<body>\n",
        "    <div class=\"container\">\n",
        "        <h1>Countdown Timer</h1>\n",
        "        <input type=\"number\" id=\"minutes\" placeholder=\"Minutes\" min=\"0\" max=\"59\">\n",
        "        <input type=\"number\" id=\"seconds\" placeholder=\"Seconds\" min=\"0\" max=\"59\">\n",
        "        <button onclick=\"startCountdown()\">Start</button>\n",
        "        <div id=\"display\">00:00</div>\n",
        "    </div>\n",
        "    <script src=\"script.js\"></script>\n",
        "</body>\n",
        "</html>\n",
        "\"\"\"\n",
        "display(HTML(html_content))\n"
      ]
    },
    {
      "cell_type": "code",
      "source": [
        "from IPython.display import HTML\n",
        "\n",
        "html_content = \"\"\"\n",
        "<!DOCTYPE html>\n",
        "<html lang=\"en\">\n",
        "<head>\n",
        "    <meta charset=\"UTF-8\">\n",
        "    <meta name=\"viewport\" content=\"width=device-width, initial-scale=1.0\">\n",
        "    <title>Countdown Timer</title>\n",
        "    <style>\n",
        "        /* Your CSS styles here */\n",
        "    </style>\n",
        "</head>\n",
        "<body>\n",
        "    <div class=\"container\">\n",
        "        <h1>Countdown Timer</h1>\n",
        "        <input type=\"number\" id=\"minutes\" placeholder=\"Minutes\" min=\"0\" max=\"59\">\n",
        "        <input type=\"number\" id=\"seconds\" placeholder=\"Seconds\" min=\"0\" max=\"59\">\n",
        "        <button onclick=\"startCountdown()\">Start</button>\n",
        "        <div id=\"display\">00:00</div>\n",
        "    </div>\n",
        "\n",
        "    <script>\n",
        "        function startCountdown() {\n",
        "            var minutes = parseInt(document.getElementById('minutes').value, 10) || 0;\n",
        "            var seconds = parseInt(document.getElementById('seconds').value, 10) || 0;\n",
        "\n",
        "            var display = document.getElementById('display');\n",
        "\n",
        "            var countdownInterval = setInterval(function() {\n",
        "                if (minutes === 0 && seconds === 0) {\n",
        "                    display.innerHTML = 'Time's up!';\n",
        "                    clearInterval(countdownInterval);\n",
        "                } else {\n",
        "                    if (seconds === 0) {\n",
        "                        minutes--;\n",
        "                        seconds = 59;\n",
        "                    } else {\n",
        "                        seconds--;\n",
        "                    }\n",
        "\n",
        "                    var formattedTime = (minutes < 10 ? '0' : '') + minutes + ':' + (seconds < 10 ? '0' : '') + seconds;\n",
        "                    display.innerHTML = formattedTime;\n",
        "                }\n",
        "            }, 1000);\n",
        "        }\n",
        "    </script>\n",
        "</body>\n",
        "</html>\n",
        "\"\"\"\n",
        "\n",
        "HTML(html_content)\n"
      ],
      "metadata": {
        "colab": {
          "base_uri": "https://localhost:8080/",
          "height": 113
        },
        "id": "nZlJK018tF0N",
        "outputId": "8764f7aa-ae2f-4737-f62b-0fe0016eaaa2"
      },
      "execution_count": 3,
      "outputs": [
        {
          "output_type": "execute_result",
          "data": {
            "text/plain": [
              "<IPython.core.display.HTML object>"
            ],
            "text/html": [
              "\n",
              "<!DOCTYPE html>\n",
              "<html lang=\"en\">\n",
              "<head>\n",
              "    <meta charset=\"UTF-8\">\n",
              "    <meta name=\"viewport\" content=\"width=device-width, initial-scale=1.0\">\n",
              "    <title>Countdown Timer</title>\n",
              "    <style>\n",
              "        /* Your CSS styles here */\n",
              "    </style>\n",
              "</head>\n",
              "<body>\n",
              "    <div class=\"container\">\n",
              "        <h1>Countdown Timer</h1>\n",
              "        <input type=\"number\" id=\"minutes\" placeholder=\"Minutes\" min=\"0\" max=\"59\">\n",
              "        <input type=\"number\" id=\"seconds\" placeholder=\"Seconds\" min=\"0\" max=\"59\">\n",
              "        <button onclick=\"startCountdown()\">Start</button>\n",
              "        <div id=\"display\">00:00</div>\n",
              "    </div>\n",
              "\n",
              "    <script>\n",
              "        function startCountdown() {\n",
              "            var minutes = parseInt(document.getElementById('minutes').value, 10) || 0;\n",
              "            var seconds = parseInt(document.getElementById('seconds').value, 10) || 0;\n",
              "\n",
              "            var display = document.getElementById('display');\n",
              "\n",
              "            var countdownInterval = setInterval(function() {\n",
              "                if (minutes === 0 && seconds === 0) {\n",
              "                    display.innerHTML = 'Time's up!';\n",
              "                    clearInterval(countdownInterval);\n",
              "                } else {\n",
              "                    if (seconds === 0) {\n",
              "                        minutes--;\n",
              "                        seconds = 59;\n",
              "                    } else {\n",
              "                        seconds--;\n",
              "                    }\n",
              "\n",
              "                    var formattedTime = (minutes < 10 ? '0' : '') + minutes + ':' + (seconds < 10 ? '0' : '') + seconds;\n",
              "                    display.innerHTML = formattedTime;\n",
              "                }\n",
              "            }, 1000);\n",
              "        }\n",
              "    </script>\n",
              "</body>\n",
              "</html>\n"
            ]
          },
          "metadata": {},
          "execution_count": 3
        }
      ]
    },
    {
      "cell_type": "code",
      "source": [
        "from IPython.display import HTML\n",
        "\n",
        "html_content = \"\"\"\n",
        "<!DOCTYPE html>\n",
        "<html lang=\"en\">\n",
        "<head>\n",
        "    <meta charset=\"UTF-8\">\n",
        "    <meta name=\"viewport\" content=\"width=device-width, initial-scale=1.0\">\n",
        "    <title>Countdown Timer</title>\n",
        "    <style>\n",
        "        /* Your CSS styles here */\n",
        "    </style>\n",
        "</head>\n",
        "<body>\n",
        "    <div class=\"container\">\n",
        "        <h1>Countdown Timer</h1>\n",
        "        <input type=\"number\" id=\"minutes\" placeholder=\"Minutes\" min=\"0\" max=\"59\">\n",
        "        <input type=\"number\" id=\"seconds\" placeholder=\"Seconds\" min=\"0\" max=\"59\">\n",
        "        <button onclick=\"startCountdown()\">Start</button>\n",
        "        <div id=\"display\">00:00</div>\n",
        "    </div>\n",
        "\n",
        "    <script>\n",
        "        function startCountdown() {\n",
        "            var minutes = parseInt(document.getElementById('minutes').value, 10) || 0;\n",
        "            var seconds = parseInt(document.getElementById('seconds').value, 10) || 0;\n",
        "            var display = document.getElementById('display');\n",
        "            var interval = setInterval(function () {\n",
        "                if (seconds === 0) {\n",
        "                    if (minutes === 0) {\n",
        "                        display.innerHTML = \"Time's up!\";\n",
        "                        clearInterval(interval);\n",
        "                    } else {\n",
        "                        seconds = 59;\n",
        "                        minutes--;\n",
        "                    }\n",
        "                } else {\n",
        "                    seconds--;\n",
        "                }\n",
        "                display.innerHTML =\n",
        "                    (minutes < 10 ? \"0\" : \"\") +\n",
        "                    minutes +\n",
        "                    \":\" +\n",
        "                    (seconds < 10 ? \"0\" : \"\") +\n",
        "                    seconds;\n",
        "            }, 1000);\n",
        "        }\n",
        "    </script>\n",
        "</body>\n",
        "</html>\n",
        "\"\"\"\n",
        "\n",
        "HTML(html_content)\n"
      ],
      "metadata": {
        "colab": {
          "base_uri": "https://localhost:8080/",
          "height": 113
        },
        "id": "rHrEdFewuIlo",
        "outputId": "d53b2ddd-13b7-4e85-a955-d231c8a8b854"
      },
      "execution_count": 4,
      "outputs": [
        {
          "output_type": "execute_result",
          "data": {
            "text/plain": [
              "<IPython.core.display.HTML object>"
            ],
            "text/html": [
              "\n",
              "<!DOCTYPE html>\n",
              "<html lang=\"en\">\n",
              "<head>\n",
              "    <meta charset=\"UTF-8\">\n",
              "    <meta name=\"viewport\" content=\"width=device-width, initial-scale=1.0\">\n",
              "    <title>Countdown Timer</title>\n",
              "    <style>\n",
              "        /* Your CSS styles here */\n",
              "    </style>\n",
              "</head>\n",
              "<body>\n",
              "    <div class=\"container\">\n",
              "        <h1>Countdown Timer</h1>\n",
              "        <input type=\"number\" id=\"minutes\" placeholder=\"Minutes\" min=\"0\" max=\"59\">\n",
              "        <input type=\"number\" id=\"seconds\" placeholder=\"Seconds\" min=\"0\" max=\"59\">\n",
              "        <button onclick=\"startCountdown()\">Start</button>\n",
              "        <div id=\"display\">00:00</div>\n",
              "    </div>\n",
              "\n",
              "    <script>\n",
              "        function startCountdown() {\n",
              "            var minutes = parseInt(document.getElementById('minutes').value, 10) || 0;\n",
              "            var seconds = parseInt(document.getElementById('seconds').value, 10) || 0;\n",
              "            var display = document.getElementById('display');\n",
              "            var interval = setInterval(function () {\n",
              "                if (seconds === 0) {\n",
              "                    if (minutes === 0) {\n",
              "                        display.innerHTML = \"Time's up!\";\n",
              "                        clearInterval(interval);\n",
              "                    } else {\n",
              "                        seconds = 59;\n",
              "                        minutes--;\n",
              "                    }\n",
              "                } else {\n",
              "                    seconds--;\n",
              "                }\n",
              "                display.innerHTML =\n",
              "                    (minutes < 10 ? \"0\" : \"\") +\n",
              "                    minutes +\n",
              "                    \":\" +\n",
              "                    (seconds < 10 ? \"0\" : \"\") +\n",
              "                    seconds;\n",
              "            }, 1000);\n",
              "        }\n",
              "    </script>\n",
              "</body>\n",
              "</html>\n"
            ]
          },
          "metadata": {},
          "execution_count": 4
        }
      ]
    }
  ]
}