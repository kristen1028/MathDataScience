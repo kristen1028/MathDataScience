{
  "nbformat": 4,
  "nbformat_minor": 0,
  "metadata": {
    "colab": {
      "provenance": []
    },
    "kernelspec": {
      "name": "python3",
      "display_name": "Python 3"
    },
    "language_info": {
      "name": "python"
    }
  },
  "cells": [
    {
      "cell_type": "code",
      "source": [
        "from IPython.display import HTML\n",
        "\n",
        "html_content = \"\"\"\n",
        "<!DOCTYPE html>\n",
        "<html lang=\"en\">\n",
        "<head>\n",
        "    <meta charset=\"UTF-8\">\n",
        "    <meta name=\"viewport\" content=\"width=device-width, initial-scale=1.0\">\n",
        "    <title>Countdown Timer</title>\n",
        "    <style>\n",
        "        /* Your CSS styles here */\n",
        "    </style>\n",
        "</head>\n",
        "<body>\n",
        "    <div class=\"container\">\n",
        "        <h1>Countdown Timer</h1>\n",
        "        <input type=\"number\" id=\"minutes\" placeholder=\"Minutes\" min=\"0\" max=\"59\">\n",
        "        <input type=\"number\" id=\"seconds\" placeholder=\"Seconds\" min=\"0\" max=\"59\">\n",
        "        <button onclick=\"startCountdown()\">Start</button>\n",
        "        <div id=\"display\">00:00</div>\n",
        "    </div>\n",
        "\n",
        "    <script>\n",
        "        function startCountdown() {\n",
        "            var minutes = parseInt(document.getElementById('minutes').value, 10) || 0;\n",
        "            var seconds = parseInt(document.getElementById('seconds').value, 10) || 0;\n",
        "            var display = document.getElementById('display');\n",
        "            var interval = setInterval(function () {\n",
        "                if (seconds === 0) {\n",
        "                    if (minutes === 0) {\n",
        "                        display.innerHTML = \"Time's up!\";\n",
        "                        clearInterval(interval);\n",
        "                    } else {\n",
        "                        seconds = 59;\n",
        "                        minutes--;\n",
        "                    }\n",
        "                } else {\n",
        "                    seconds--;\n",
        "                }\n",
        "                display.innerHTML =\n",
        "                    (minutes < 10 ? \"0\" : \"\") +\n",
        "                    minutes +\n",
        "                    \":\" +\n",
        "                    (seconds < 10 ? \"0\" : \"\") +\n",
        "                    seconds;\n",
        "            }, 1000);\n",
        "        }\n",
        "    </script>\n",
        "</body>\n",
        "</html>\n",
        "\"\"\"\n",
        "\n",
        "HTML(html_content)\n"
      ],
      "metadata": {
        "colab": {
          "base_uri": "https://localhost:8080/",
          "height": 113
        },
        "id": "rHrEdFewuIlo",
        "outputId": "d53b2ddd-13b7-4e85-a955-d231c8a8b854"
      },
      "execution_count": 4,
      "outputs": [
        {
          "output_type": "execute_result",
          "data": {
            "text/plain": [
              "<IPython.core.display.HTML object>"
            ],
            "text/html": [
              "\n",
              "<!DOCTYPE html>\n",
              "<html lang=\"en\">\n",
              "<head>\n",
              "    <meta charset=\"UTF-8\">\n",
              "    <meta name=\"viewport\" content=\"width=device-width, initial-scale=1.0\">\n",
              "    <title>Countdown Timer</title>\n",
              "    <style>\n",
              "        /* Your CSS styles here */\n",
              "    </style>\n",
              "</head>\n",
              "<body>\n",
              "    <div class=\"container\">\n",
              "        <h1>Countdown Timer</h1>\n",
              "        <input type=\"number\" id=\"minutes\" placeholder=\"Minutes\" min=\"0\" max=\"59\">\n",
              "        <input type=\"number\" id=\"seconds\" placeholder=\"Seconds\" min=\"0\" max=\"59\">\n",
              "        <button onclick=\"startCountdown()\">Start</button>\n",
              "        <div id=\"display\">00:00</div>\n",
              "    </div>\n",
              "\n",
              "    <script>\n",
              "        function startCountdown() {\n",
              "            var minutes = parseInt(document.getElementById('minutes').value, 10) || 0;\n",
              "            var seconds = parseInt(document.getElementById('seconds').value, 10) || 0;\n",
              "            var display = document.getElementById('display');\n",
              "            var interval = setInterval(function () {\n",
              "                if (seconds === 0) {\n",
              "                    if (minutes === 0) {\n",
              "                        display.innerHTML = \"Time's up!\";\n",
              "                        clearInterval(interval);\n",
              "                    } else {\n",
              "                        seconds = 59;\n",
              "                        minutes--;\n",
              "                    }\n",
              "                } else {\n",
              "                    seconds--;\n",
              "                }\n",
              "                display.innerHTML =\n",
              "                    (minutes < 10 ? \"0\" : \"\") +\n",
              "                    minutes +\n",
              "                    \":\" +\n",
              "                    (seconds < 10 ? \"0\" : \"\") +\n",
              "                    seconds;\n",
              "            }, 1000);\n",
              "        }\n",
              "    </script>\n",
              "</body>\n",
              "</html>\n"
            ]
          },
          "metadata": {},
          "execution_count": 4
        }
      ]
    }
  ]
}