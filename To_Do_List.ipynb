{
  "nbformat": 4,
  "nbformat_minor": 0,
  "metadata": {
    "colab": {
      "provenance": []
    },
    "kernelspec": {
      "name": "python3",
      "display_name": "Python 3"
    },
    "language_info": {
      "name": "python"
    }
  },
  "cells": [
    {
      "cell_type": "code",
      "execution_count": null,
      "metadata": {
        "colab": {
          "base_uri": "https://localhost:8080/",
          "height": 64
        },
        "id": "GFgqMLx0koj9",
        "outputId": "31ac687f-0d0a-4f88-a4c2-dcf7ae82e992"
      },
      "outputs": [
        {
          "output_type": "display_data",
          "data": {
            "text/plain": [
              "<IPython.core.display.HTML object>"
            ],
            "text/html": [
              "\n",
              "<!DOCTYPE html>\n",
              "<html lang=\"en\">\n",
              "<head>\n",
              "    <meta charset=\"UTF-8\">\n",
              "    <meta name=\"viewport\" content=\"width=device-width, initial-scale=1.0\">\n",
              "    <title>To-Do List</title>\n",
              "    <style>\n",
              "        .light {\n",
              "            display: inline-block;\n",
              "            margin-right: 10,px;\n",
              "            cursor: pointer;\n",
              "        }\n",
              "\n",
              "        .light.red {\n",
              "            background-image: url('data:image/svg+xml;utf8,<svg width=\"20\" height=\"20\" viewBox=\"0 0 32 32\" xmlns=\"http://www.w3.org/2000/svg\"><circle cx=\"16\" cy=\"16\" r=\"15\" fill=\"#FF0000\"/></svg>');\n",
              "        }\n",
              "\n",
              "        .light.green {\n",
              "            background-image: url('data:image/svg+xml;utf8,<svg width=\"20\" height=\"20\" viewBox=\"0 0 32 32\" xmlns=\"http://www.w3.org/2000/svg\"><circle cx=\"16\" cy=\"16\" r=\"15\" fill=\"#00FF00\"/></svg>');\n",
              "        }\n",
              "    </style>\n",
              "</head>\n",
              "<body>\n",
              "\n",
              "<ul id=\"todo-list\">\n",
              "    <li>\n",
              "        <span class=\"light red\"></span> Task 1\n",
              "    </li>\n",
              "    <li>\n",
              "        <span class=\"light red\"></span> Task 2\n",
              "    </li>\n",
              "    <!-- Add more tasks as needed -->\n",
              "</ul>\n",
              "\n",
              "<script>\n",
              "    document.getElementById('todo-list').addEventListener('click', function(e) {\n",
              "        if (e.target && e.target.classList.contains('light')) {\n",
              "            if (e.target.classList.contains('red')) {\n",
              "                e.target.classList.remove('red');\n",
              "                e.target.classList.add('green');\n",
              "            } else if (e.target.classList.contains('green')) {\n",
              "                e.target.classList.remove('green');\n",
              "                e.target.classList.add('red');\n",
              "            }\n",
              "        }\n",
              "    });\n",
              "</script>\n",
              "\n",
              "</body>\n",
              "</html>\n"
            ]
          },
          "metadata": {}
        }
      ],
      "source": [
        "from IPython.display import display_html\n",
        "html_content = \"\"\"\n",
        "<!DOCTYPE html>\n",
        "<html lang=\"en\">\n",
        "<head>\n",
        "    <meta charset=\"UTF-8\">\n",
        "    <meta name=\"viewport\" content=\"width=device-width, initial-scale=1.0\">\n",
        "    <title>To-Do List</title>\n",
        "    <style>\n",
        "        .light {\n",
        "            display: inline-block;\n",
        "            margin-right: 10,px;\n",
        "            cursor: pointer;\n",
        "        }\n",
        "\n",
        "        .light.red {\n",
        "            background-image: url('data:image/svg+xml;utf8,<svg width=\"20\" height=\"20\" viewBox=\"0 0 32 32\" xmlns=\"http://www.w3.org/2000/svg\"><circle cx=\"16\" cy=\"16\" r=\"15\" fill=\"#FF0000\"/></svg>');\n",
        "        }\n",
        "\n",
        "        .light.green {\n",
        "            background-image: url('data:image/svg+xml;utf8,<svg width=\"20\" height=\"20\" viewBox=\"0 0 32 32\" xmlns=\"http://www.w3.org/2000/svg\"><circle cx=\"16\" cy=\"16\" r=\"15\" fill=\"#00FF00\"/></svg>');\n",
        "        }\n",
        "    </style>\n",
        "</head>\n",
        "<body>\n",
        "\n",
        "<ul id=\"todo-list\">\n",
        "    <li>\n",
        "        <span class=\"light red\"></span> Task 1\n",
        "    </li>\n",
        "    <li>\n",
        "        <span class=\"light red\"></span> Task 2\n",
        "    </li>\n",
        "    <!-- Add more tasks as needed -->\n",
        "</ul>\n",
        "\n",
        "<script>\n",
        "    document.getElementById('todo-list').addEventListener('click', function(e) {\n",
        "        if (e.target && e.target.classList.contains('light')) {\n",
        "            if (e.target.classList.contains('red')) {\n",
        "                e.target.classList.remove('red');\n",
        "                e.target.classList.add('green');\n",
        "            } else if (e.target.classList.contains('green')) {\n",
        "                e.target.classList.remove('green');\n",
        "                e.target.classList.add('red');\n",
        "            }\n",
        "        }\n",
        "    });\n",
        "</script>\n",
        "\n",
        "</body>\n",
        "</html>\n",
        "\"\"\"\n",
        "display(HTML(html_content))"
      ]
    }
  ]
}