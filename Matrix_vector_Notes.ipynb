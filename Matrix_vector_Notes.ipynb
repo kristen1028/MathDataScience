{
  "nbformat": 4,
  "nbformat_minor": 0,
  "metadata": {
    "colab": {
      "provenance": []
    },
    "kernelspec": {
      "name": "python3",
      "display_name": "Python 3"
    },
    "language_info": {
      "name": "python"
    }
  },
  "cells": [
    {
      "cell_type": "code",
      "execution_count": null,
      "metadata": {
        "id": "OCAIQznq6sZY"
      },
      "outputs": [],
      "source": [
        "import numpy as np\n",
        "import matplotlib.pyplot as plt"
      ]
    },
    {
      "cell_type": "code",
      "source": [
        "x = np.random.rand(10,)"
      ],
      "metadata": {
        "id": "AcKzEG-y6_7r"
      },
      "execution_count": null,
      "outputs": []
    },
    {
      "cell_type": "code",
      "source": [
        "x"
      ],
      "metadata": {
        "colab": {
          "base_uri": "https://localhost:8080/"
        },
        "id": "xS8OSqBy7QDv",
        "outputId": "c2cf1f26-d101-4e30-b5c5-0235604d5706"
      },
      "execution_count": null,
      "outputs": [
        {
          "output_type": "execute_result",
          "data": {
            "text/plain": [
              "array([0.57970258, 0.02541045, 0.74027206, 0.8002306 , 0.19065388,\n",
              "       0.83886293, 0.69297987, 0.41760415, 0.15025021, 0.93005239])"
            ]
          },
          "metadata": {},
          "execution_count": 6
        }
      ]
    },
    {
      "cell_type": "code",
      "source": [
        "x.shape"
      ],
      "metadata": {
        "colab": {
          "base_uri": "https://localhost:8080/"
        },
        "id": "L-qX0qPo7RZZ",
        "outputId": "700064df-fef8-4082-989d-fef1f837badc"
      },
      "execution_count": null,
      "outputs": [
        {
          "output_type": "execute_result",
          "data": {
            "text/plain": [
              "(10,)"
            ]
          },
          "metadata": {},
          "execution_count": 7
        }
      ]
    },
    {
      "cell_type": "code",
      "source": [
        "2*x"
      ],
      "metadata": {
        "colab": {
          "base_uri": "https://localhost:8080/"
        },
        "id": "v7hcdN7_7Twb",
        "outputId": "fe3fa8a0-69dd-4da5-ae51-346d690b183d"
      },
      "execution_count": null,
      "outputs": [
        {
          "output_type": "execute_result",
          "data": {
            "text/plain": [
              "array([1.15940516, 0.0508209 , 1.48054411, 1.60046121, 0.38130775,\n",
              "       1.67772586, 1.38595974, 0.8352083 , 0.30050042, 1.86010478])"
            ]
          },
          "metadata": {},
          "execution_count": 8
        }
      ]
    },
    {
      "cell_type": "code",
      "source": [
        "m = np.random.rand(5,5)"
      ],
      "metadata": {
        "id": "CvqvuvN67Vmq"
      },
      "execution_count": null,
      "outputs": []
    },
    {
      "cell_type": "code",
      "source": [
        "m"
      ],
      "metadata": {
        "colab": {
          "base_uri": "https://localhost:8080/"
        },
        "id": "X60fZ3Br7ddR",
        "outputId": "0b68131c-eca3-4151-c76f-2f940c57f723"
      },
      "execution_count": null,
      "outputs": [
        {
          "output_type": "execute_result",
          "data": {
            "text/plain": [
              "array([[0.93103581, 0.50781677, 0.32559985, 0.07620933, 0.93836188],\n",
              "       [0.09436979, 0.47694027, 0.92091472, 0.87026465, 0.9889866 ],\n",
              "       [0.37596978, 0.90101395, 0.5301908 , 0.97904106, 0.49182718],\n",
              "       [0.50093586, 0.98296174, 0.74801022, 0.30537969, 0.21555861],\n",
              "       [0.77168354, 0.98954525, 0.35445876, 0.14332311, 0.93221068]])"
            ]
          },
          "metadata": {},
          "execution_count": 11
        }
      ]
    },
    {
      "cell_type": "code",
      "source": [
        "plt.imshow(m,cmap='gray')"
      ],
      "metadata": {
        "colab": {
          "base_uri": "https://localhost:8080/",
          "height": 448
        },
        "id": "ykjYgpMY7etg",
        "outputId": "ec6fef18-05f6-4897-dbee-250ab95d7668"
      },
      "execution_count": null,
      "outputs": [
        {
          "output_type": "execute_result",
          "data": {
            "text/plain": [
              "<matplotlib.image.AxesImage at 0x7ba05a4db160>"
            ]
          },
          "metadata": {},
          "execution_count": 13
        },
        {
          "output_type": "display_data",
          "data": {
            "text/plain": [
              "<Figure size 640x480 with 1 Axes>"
            ],
            "image/png": "[encoded data removed]"
          },
          "metadata": {}
        }
      ]
    },
    {
      "cell_type": "code",
      "source": [
        "m = np.random.rand(5,5)"
      ],
      "metadata": {
        "id": "nqMSyL0R7lnJ"
      },
      "execution_count": null,
      "outputs": []
    },
    {
      "cell_type": "code",
      "source": [
        "x = np.random.rand(5,1)"
      ],
      "metadata": {
        "id": "f5CK63B87pYS"
      },
      "execution_count": null,
      "outputs": []
    },
    {
      "cell_type": "code",
      "source": [
        "m.shape,x.shape"
      ],
      "metadata": {
        "colab": {
          "base_uri": "https://localhost:8080/"
        },
        "id": "cXSNAYe77sHC",
        "outputId": "503d9d31-7218-491a-8071-26736aaae884"
      },
      "execution_count": null,
      "outputs": [
        {
          "output_type": "execute_result",
          "data": {
            "text/plain": [
              "((5, 5), (5, 1))"
            ]
          },
          "metadata": {},
          "execution_count": 18
        }
      ]
    },
    {
      "cell_type": "code",
      "source": [
        "m@x"
      ],
      "metadata": {
        "colab": {
          "base_uri": "https://localhost:8080/"
        },
        "id": "ZsW74yq67w72",
        "outputId": "484cdd36-b1fb-465c-ae5f-c09343f1052a"
      },
      "execution_count": null,
      "outputs": [
        {
          "output_type": "execute_result",
          "data": {
            "text/plain": [
              "array([[2.373829  ],\n",
              "       [2.35755301],\n",
              "       [1.47699329],\n",
              "       [1.95713474],\n",
              "       [1.25028898]])"
            ]
          },
          "metadata": {},
          "execution_count": 19
        }
      ]
    },
    {
      "cell_type": "code",
      "source": [],
      "metadata": {
        "id": "X8FeWrHy79y0"
      },
      "execution_count": null,
      "outputs": []
    }
  ]
}